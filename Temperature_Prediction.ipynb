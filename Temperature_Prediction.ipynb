{
 "cells": [
  {
   "cell_type": "markdown",
   "metadata": {},
   "source": [
    "# Temperature Visualization, Prediction and Analysis\n",
    "\n",
    "\n",
    "# Introduction\n",
    "\n",
    "\n",
    "# 1. Problem\n",
    "\n",
    "A conventional thermometer requires the thermometer to be at thermal equilibrium with the object to accurately measure the temperature of the object. The time taken to reach thermal equilibrium depends on the heat capacity of the thermometer and heat transfer rate. For example, the thermometer and the temperature sensor provided take __*more than 100 s*__ to reach quasi-thermal equilibrium with a water bath. \n",
    "\n",
    "We wish to reduce this waiting time by building a predictive model utilizing temperature and time data taken using the temperature sensor, leveraging on mathematical relations between the quantities and approximations to get correct predictions. \n",
    "\n",
    "# 2. Approach\n",
    "\n",
    "# Terms used:\n",
    "\n",
    "Variables:\n",
    "\n",
    "$$1.\\:Temperature\\:at\\:time\\:t\\: : T_{s}(t)$$\n",
    "\n",
    "$$2.\\:Time\\: : t $$\n",
    "\n",
    "Constants:\n",
    "\n",
    "$$1.\\:Ambient\\:Temperature\\: : T_{a} $$\n",
    "\n",
    "$$2.\\:Equilibrium\\:Temperature\\: : T_{w} (constant\\:for\\:a\\:particular \\:experiment, \\:variable \\:for \\:multiple \\:experiments) $$\n",
    "\n",
    "# Approximations and Equations:\n",
    "\n",
    "From Engineering in the Physical World, we know that there are 2 possible approximations one can use in order to get mathematical relations that link the equilibrium temperature, current temperature of the sensor and ambient temperature to the time. \n",
    "\n",
    "\n",
    "1. If no work is done on or by sensor:\n",
    "\n",
    " $$T_{w}= \\frac{C_{s}}{\\lambda}.\\frac{dT_{s}}{dt} + T_{s}$$\n",
    " \n",
    " __This equation implies a linear relationship between the temperature and the derivative of the temperature with respect to time.__\n",
    " \n",
    "\n",
    "2. If the former assumption is valid AND if Cs and lambda are independant of the temperature Ts:\n",
    "\n",
    " $$Ln(\\frac{T_{s}-T_{w}}{T_{a}-T_{w}})= \\frac{-t}{\\tau}$$ \n",
    "\n",
    " __This equation implies a linear relationship between the natural log term and the time.__\n",
    "\n",
    "Since the second equation is derived by integrating the first one, it would be redundant to try to utilise both equations together, as that implies both assumptions must be correct. It would be better to treat them as two possibilities, and the most accurate model would result from the correct assumption.\n",
    "\n",
    "We proceeded to generate one extra feature for each of the two models, using existing data:\n",
    "\n",
    "1. For the first model $$\\frac{dT_{s}}{dt}$$\n",
    "\n",
    "2. For the second model $$Ln(\\frac{T_{s}-T_{w}}{T_{a}-T_{w}})$$\n",
    "\n",
    "Then we set the y value(to be predicted) as Tw, taking different parameters for both models.\n",
    "\n",
    "\n",
    "# Summary of Results\n",
    "\n",
    "We were able to build a model that predicts the equilibrium temperature fairly accurately, within an error of 1 degree, and within a time period of 10 seconds.\n"
   ]
  },
  {
   "cell_type": "code",
   "execution_count": 180,
   "metadata": {},
   "outputs": [],
   "source": [
    "#Relevant modules and libraries\n",
    "from sklearn.metrics import accuracy_score\n",
    "from scipy.stats import linregress\n",
    "import numpy as np\n",
    "import pandas as pd\n",
    "from sklearn.linear_model import LinearRegression\n",
    "from sklearn import linear_model \n",
    "from sklearn.metrics import mean_squared_error, r2_score\n",
    "from sklearn.model_selection import train_test_split\n",
    "from joblib import dump, load\n",
    "import matplotlib.pyplot as plt\n",
    "import math"
   ]
  },
  {
   "cell_type": "markdown",
   "metadata": {},
   "source": [
    "# Description of Data from Experiment"
   ]
  },
  {
   "cell_type": "markdown",
   "metadata": {},
   "source": [
    "## Data Collection\n",
    "\n",
    "We used the Adafruit temperature sensor with Raspberry Pi in order to take temperature readings at regular intervals, along with the time data as well. \n",
    "\n",
    "We also recorded the Equilibrium temperature separately and included it while preparing the data in a separate column, as that is the value we wish to predict.\n",
    "\n",
    "__However__, note that we did not take the sensor final reading as the equilibrium temperature, as we did not want to exceed a collection time of 60 seconds for the data. We did this because the water also loses some heat to the air, and over a longer period of time, the equilibrium temperature may be affected. Thus we used an accurate digital thermometer to get the equilibrium temperature instantly and accurately.\n"
   ]
  },
  {
   "cell_type": "markdown",
   "metadata": {},
   "source": [
    "## Data Preparation\n",
    "\n",
    "Steps:\n",
    "1. Take data from sensor and input it into a csv file into 2 rows, celsius and time.\n",
    "\n",
    "2. Load the csv file into a dataframe.\n",
    "\n",
    "3. From this dataframe, store all the readings of each array, except the first 3, as they are usually outlier data that are not part of the general linear trend, and may lead to reduced accuracies. This is because those first 3 readings are when the sensor is dipped into water, and there is probably some adjustment time from the previous state of being at room temperature.\n",
    "\n",
    "4. Add two more columns to the dataframe, ambient temperature ($T_{a}$) and equilibrium temperature ($T_{w}$). For a particular dataset, there is only a single ambient and equilibrium temperature, so the columns have the same values repeatedly for a single dataset. But these values will vary over multiple datasets.\n",
    "\n",
    "5. Calculate 2 extra features(given below), and then reduce all columns by 1 row, because derivative[i]=(temp[i]-temp[i-1])/(t[i]-t[i-1]) means that the derivative cannot be calculated for the very first row, as there is no preceding value of temperature or time. Return the dataframe, ready to be split into train and test datasets.\n",
    "\n",
    " a. The derivative of the Temperature with respect to time:\n",
    " $$\\frac{dT_{s}}{dt}$$\n",
    " b. The natural log term:\n",
    " $$Ln(\\frac{T_{s}-T_{w}}{T_{a}-T_{w}})$$"
   ]
  },
  {
   "cell_type": "code",
   "execution_count": 181,
   "metadata": {},
   "outputs": [],
   "source": [
    "#Step 1:set filenames and equilibrium temperatures to pass to processing function later.\n",
    "\n",
    "f1=\"36.csv\"\n",
    "t1=36\n",
    "f2=\"47.csv\"\n",
    "t2=47\n",
    "f3=\"55.csv\"\n",
    "t3=55\n",
    "f4=\"81.csv\"\n",
    "t4=81\n",
    "\n",
    "def dataread(filename,Tw):\n",
    "    \n",
    "    #Step 2: Read the csv file into a dataframe for easier processing.\n",
    "    df=pd.read_csv(filename) \n",
    "    #create empty arrays c(celsius) and t(time) to be filled with clean data(after excluding certain data)\n",
    "    c=[]\n",
    "    t=[]\n",
    "    #Step 3: excluding first 3 rows, as they are usually outlier data that dont help the model to generalise to the desired trend\n",
    "    for i in range(3,len(df[\"celsius\"])): \n",
    "        c.append(df[\"celsius\"][i])\n",
    "    for i in range(3,len(df[\"time\"])): \n",
    "        t.append(df[\"time\"][i])\n",
    "        \n",
    "    #create new dataframe to fill with correct data\n",
    "    data=pd.DataFrame()\n",
    "    \n",
    "    #Step 4: create columns of Tw\n",
    "    \n",
    "\n",
    "    data[\"Tw\"]=[Tw]*(len(t)-1)\n",
    "    \n",
    "    #Step 5: create empty natural log array\n",
    "    ln=[]\n",
    "    #calculate the log values and fill in the array\n",
    "    Ta=df[\"celsius\"][0] #initialise Ambient temperature for use in calculation.\n",
    "    for i in range(1,len(c)):\n",
    "        lnterm=np.log((c[i]-Tw)/(Ta-Tw))\n",
    "        ln.append(lnterm)\n",
    "    \n",
    "    #assign the array to the dataframe\n",
    "    data[\"lon\"]=ln\n",
    "    \n",
    "    #create an empty derivative array, so calculated derivative can be filled in.\n",
    "    d=[None]*len(c) \n",
    "    for i in range(1,len(c)):\n",
    "        d[i]=(c[i]-c[i-1])/(t[i]-t[i-1])\n",
    "    \n",
    "    #Start filling from index 1 as the first value of derivative doesnt exist, as there is no previous value of temperature or time\n",
    "    data[\"celsius\"]=c[1:]\n",
    "    data[\"deriv\"]=d[1:]\n",
    "    data[\"time\"]=t[1:]\n",
    "    \n",
    "    \n",
    "    #return the dataframe\n",
    "    return (data)\n",
    "\n",
    "#read and process all 4 datafiles\n",
    "data1=dataread(f1,t1)\n",
    "data2=dataread(f2,t2)\n",
    "data3=dataread(f3,t3)\n",
    "data4=dataread(f4,t4)"
   ]
  },
  {
   "cell_type": "code",
   "execution_count": 182,
   "metadata": {},
   "outputs": [
    {
     "data": {
      "text/html": [
       "<div>\n",
       "<style scoped>\n",
       "    .dataframe tbody tr th:only-of-type {\n",
       "        vertical-align: middle;\n",
       "    }\n",
       "\n",
       "    .dataframe tbody tr th {\n",
       "        vertical-align: top;\n",
       "    }\n",
       "\n",
       "    .dataframe thead th {\n",
       "        text-align: right;\n",
       "    }\n",
       "</style>\n",
       "<table border=\"1\" class=\"dataframe\">\n",
       "  <thead>\n",
       "    <tr style=\"text-align: right;\">\n",
       "      <th></th>\n",
       "      <th>Tw</th>\n",
       "      <th>lon</th>\n",
       "      <th>celsius</th>\n",
       "      <th>deriv</th>\n",
       "      <th>time</th>\n",
       "    </tr>\n",
       "  </thead>\n",
       "  <tbody>\n",
       "    <tr>\n",
       "      <th>0</th>\n",
       "      <td>36</td>\n",
       "      <td>-0.338086</td>\n",
       "      <td>30.250</td>\n",
       "      <td>0.407609</td>\n",
       "      <td>8.04</td>\n",
       "    </tr>\n",
       "    <tr>\n",
       "      <th>1</th>\n",
       "      <td>36</td>\n",
       "      <td>-0.453155</td>\n",
       "      <td>30.875</td>\n",
       "      <td>0.355114</td>\n",
       "      <td>9.80</td>\n",
       "    </tr>\n",
       "    <tr>\n",
       "      <th>2</th>\n",
       "      <td>36</td>\n",
       "      <td>-0.569305</td>\n",
       "      <td>31.437</td>\n",
       "      <td>0.319318</td>\n",
       "      <td>11.56</td>\n",
       "    </tr>\n",
       "    <tr>\n",
       "      <th>3</th>\n",
       "      <td>36</td>\n",
       "      <td>-0.685364</td>\n",
       "      <td>31.937</td>\n",
       "      <td>0.284091</td>\n",
       "      <td>13.32</td>\n",
       "    </tr>\n",
       "    <tr>\n",
       "      <th>4</th>\n",
       "      <td>36</td>\n",
       "      <td>-0.816683</td>\n",
       "      <td>32.437</td>\n",
       "      <td>0.284091</td>\n",
       "      <td>15.08</td>\n",
       "    </tr>\n",
       "  </tbody>\n",
       "</table>\n",
       "</div>"
      ],
      "text/plain": [
       "   Tw       lon  celsius     deriv   time\n",
       "0  36 -0.338086   30.250  0.407609   8.04\n",
       "1  36 -0.453155   30.875  0.355114   9.80\n",
       "2  36 -0.569305   31.437  0.319318  11.56\n",
       "3  36 -0.685364   31.937  0.284091  13.32\n",
       "4  36 -0.816683   32.437  0.284091  15.08"
      ]
     },
     "execution_count": 182,
     "metadata": {},
     "output_type": "execute_result"
    }
   ],
   "source": [
    "data1.head()"
   ]
  },
  {
   "cell_type": "markdown",
   "metadata": {},
   "source": [
    "## Data Format\n",
    "\n",
    "The data has 5 columns:\n",
    "\n",
    "1.Tw - Equilibrium Temperature\n",
    "\n",
    "2.Lon - Natural Log of ((T(t)-Tw)/(Ta-Tw)) \n",
    "\n",
    "3.Celsius - Recorded Temperature in celsius\n",
    "\n",
    "4.Deriv(derivative) - Approximate derivative of Temperature with respect to time.\n",
    "\n",
    "\n",
    "From our earlier 2 equations, we know of two linear relations, either of which can be used to predict Tw. Thus we can build 2 models, one for each relation, and check which one has better accuracy.\n",
    "\n",
    "# Visualisations\n",
    "\n",
    "# 1. Proof as to why the data should be cleaned from the first 3 rows, visualisation of unclean data:\n",
    "\n",
    "Steps:\n",
    "\n",
    "1. Read csv file into dataframe.\n",
    "2. Find derivative values for the temperature and time columns.\n",
    "3. Plot the Temperature vs time using matplotlib, and observe that the first 2 points are outliers(not so obvious as they seem to curve smoothly, but they're not part of the curve formed by the later points).\n",
    "4. Plot the Derivative vs Temperature. Here we can clearly see the first two points being outliers to the general linear trend.\n",
    "5. Repeat the above steps for other data files to confirm if these outliers appear in other datasets.\n",
    "6. Now we have more than enough proof that all the files should be cleaned of the first 3 rows.\n"
   ]
  },
  {
   "cell_type": "code",
   "execution_count": 183,
   "metadata": {},
   "outputs": [
    {
     "name": "stdout",
     "output_type": "stream",
     "text": [
      "Graph of temperature vs time\n",
      "As you can observe, the first two points dont fit smoothly onto the curve.\n"
     ]
    },
    {
     "data": {
      "image/png": "[encoded data removed]",
      "text/plain": [
       "<Figure size 432x288 with 1 Axes>"
      ]
     },
     "metadata": {
      "needs_background": "light"
     },
     "output_type": "display_data"
    },
    {
     "name": "stdout",
     "output_type": "stream",
     "text": [
      "Graph of derivative vs temperature\n",
      "Except for the first two points, the other points fit relatively well. Hence it is necessary to clean up the first 3 rows, for a good safety margin.\n"
     ]
    },
    {
     "data": {
      "image/png": "[encoded data removed]",
      "text/plain": [
       "<Figure size 432x288 with 1 Axes>"
      ]
     },
     "metadata": {
      "needs_background": "light"
     },
     "output_type": "display_data"
    },
    {
     "name": "stdout",
     "output_type": "stream",
     "text": [
      "Check in 2nd data file\n",
      "Graph of temperature vs time\n",
      "As you can observe, the first two points dont fit smoothly onto the curve.\n"
     ]
    },
    {
     "data": {
      "image/png": "[encoded data removed]",
      "text/plain": [
       "<Figure size 432x288 with 1 Axes>"
      ]
     },
     "metadata": {
      "needs_background": "light"
     },
     "output_type": "display_data"
    },
    {
     "name": "stdout",
     "output_type": "stream",
     "text": [
      "Graph of derivative vs temperature\n",
      "Except for the first two points, the other points fit relatively well. Hence it is necessary to clean up the first 3 rows, for a good safety margin.\n"
     ]
    },
    {
     "data": {
      "image/png": "[encoded data removed]",
      "text/plain": [
       "<Figure size 432x288 with 1 Axes>"
      ]
     },
     "metadata": {
      "needs_background": "light"
     },
     "output_type": "display_data"
    }
   ],
   "source": [
    "def checkrawdata(f1):\n",
    "    #step 1, read csv into dataframe\n",
    "    rawdata=pd.read_csv(f1)\n",
    "    rawdata.head()\n",
    "    temp=rawdata[\"celsius\"]\n",
    "    time=rawdata[\"time\"]\n",
    "    #step 2, find derivative values\n",
    "    derivative=[]\n",
    "    for i in range(1,len(rawdata[\"celsius\"])):\n",
    "        derivative.append((temp[i]-temp[i-1])/(time[i]-time[i-1]))\n",
    "    print(\"Graph of temperature vs time\")\n",
    "    print(\"As you can observe, the first two points dont fit smoothly onto the curve.\")\n",
    "    #Plot out the temperature vs time\n",
    "    fig = plt.figure()\n",
    "    ax1 = fig.add_subplot(111)\n",
    "    ax1.scatter(time,temp, c='b', marker=\"s\")\n",
    "    plt.xlabel(\"time(s)\")\n",
    "    plt.ylabel(\"Temperature(C)\")\n",
    "    plt.show()\n",
    "    #plot out the derivative vs the temperature\n",
    "    print(\"Graph of derivative vs temperature\")\n",
    "    print(\"Except for the first two points, the other points fit relatively well. Hence it is necessary to clean up the first 3 rows, for a good safety margin.\")\n",
    "    fig = plt.figure()\n",
    "    ax1 = fig.add_subplot(111)\n",
    "    ax1.scatter(temp[1:],derivative, c='b', marker=\"s\")\n",
    "    #get slope and intercept using linear regression to plot the regression line, and thus see which points are outliers\n",
    "    slope,intercept,rvalue,pvalue,stderr=(linregress(temp[3:],derivative[2:]))\n",
    "    plt.xlabel(\"temperature(c)\")\n",
    "    plt.ylabel(\"Derivative(C/s)\")\n",
    "    plt.plot([temp[3], temp[len(temp)-1]], [slope*temp[3]+intercept,slope*temp[len(temp)-1]+intercept], color='k', linestyle='-', linewidth=2)\n",
    "    plt.title('$dT/dt=%3.7sT+%3.7s$'%(slope, intercept))\n",
    "    plt.show()\n",
    "    \n",
    "checkrawdata(f1)\n",
    "print(\"Check in 2nd data file\")\n",
    "checkrawdata(f2)"
   ]
  },
  {
   "cell_type": "markdown",
   "metadata": {},
   "source": [
    "# 2. Visualise 3 graphs for a cleaned dataframe:\n",
    "\n",
    "a. Temperature vs Time\n",
    "\n",
    "b. Derivative vs Temperature\n",
    "\n",
    "c. Natural Log term vs Time"
   ]
  },
  {
   "cell_type": "code",
   "execution_count": 184,
   "metadata": {},
   "outputs": [
    {
     "name": "stdout",
     "output_type": "stream",
     "text": [
      "From the following graphs, we can see that our linear equations are valid and can be applied for prediction.\n",
      "visualising dataset 1\n",
      "1. Temperature vs Time\n"
     ]
    },
    {
     "data": {
      "image/png": "[encoded data removed]",
      "text/plain": [
       "<Figure size 432x288 with 1 Axes>"
      ]
     },
     "metadata": {
      "needs_background": "light"
     },
     "output_type": "display_data"
    },
    {
     "name": "stdout",
     "output_type": "stream",
     "text": [
      "2. Derivative vs Temperature\n"
     ]
    },
    {
     "data": {
      "image/png": "[encoded data removed]",
      "text/plain": [
       "<Figure size 432x288 with 1 Axes>"
      ]
     },
     "metadata": {
      "needs_background": "light"
     },
     "output_type": "display_data"
    },
    {
     "name": "stdout",
     "output_type": "stream",
     "text": [
      "3. -Lon vs Time\n"
     ]
    },
    {
     "data": {
      "image/png": "[encoded data removed]",
      "text/plain": [
       "<Figure size 432x288 with 1 Axes>"
      ]
     },
     "metadata": {
      "needs_background": "light"
     },
     "output_type": "display_data"
    },
    {
     "name": "stdout",
     "output_type": "stream",
     "text": [
      "plotting dataset 4 for checking\n",
      "1. Temperature vs Time\n"
     ]
    },
    {
     "data": {
      "image/png": "[encoded data removed]",
      "text/plain": [
       "<Figure size 432x288 with 1 Axes>"
      ]
     },
     "metadata": {
      "needs_background": "light"
     },
     "output_type": "display_data"
    },
    {
     "name": "stdout",
     "output_type": "stream",
     "text": [
      "2. Derivative vs Temperature\n"
     ]
    },
    {
     "data": {
      "image/png": "[encoded data removed]",
      "text/plain": [
       "<Figure size 432x288 with 1 Axes>"
      ]
     },
     "metadata": {
      "needs_background": "light"
     },
     "output_type": "display_data"
    },
    {
     "name": "stdout",
     "output_type": "stream",
     "text": [
      "3. -Lon vs Time\n"
     ]
    },
    {
     "data": {
      "image/png": "[encoded data removed]",
      "text/plain": [
       "<Figure size 432x288 with 1 Axes>"
      ]
     },
     "metadata": {
      "needs_background": "light"
     },
     "output_type": "display_data"
    }
   ],
   "source": [
    "print(\"From the following graphs, we can see that our linear equations are valid and can be applied for prediction.\")\n",
    "def plot(data1):\n",
    "    temp=data1[\"celsius\"]\n",
    "    derivative=data1[\"deriv\"]\n",
    "    time=data1[\"time\"]\n",
    "    ln=data1[\"lon\"]\n",
    "    print(\"1. Temperature vs Time\")\n",
    "    fig = plt.figure()\n",
    "    ax1 = fig.add_subplot(111)\n",
    "    ax1.scatter(time,temp ,  c='b', marker=\"s\", label='deriv')\n",
    "    plt.xlabel(\"Time(s)\")\n",
    "    plt.ylabel(\"Temperature(Celsius)\")\n",
    "    plt.show()\n",
    "    print(\"2. Derivative vs Temperature\")\n",
    "    fig = plt.figure()\n",
    "    ax1 = fig.add_subplot(111)\n",
    "    ax1.scatter(temp,derivative ,  c='b', marker=\"s\", label='deriv')\n",
    "    plt.xlabel(\"Temperature(C)\")\n",
    "    plt.ylabel(\"Derivative(C/s)\")\n",
    "    slope,intercept,rvalue,pvalue,stderr=(linregress(temp,derivative))\n",
    "    plt.plot([temp[0], temp[len(temp)-1]], [slope*temp[0]+intercept,slope*temp[len(temp)-1]+intercept], color='k', linestyle='-', linewidth=2)\n",
    "    plt.title('$dT/dt=%3.7sT+%3.7s$'%(slope, intercept))\n",
    "    plt.show()\n",
    "    print(\"3. -Lon vs Time\")\n",
    "    fig = plt.figure()\n",
    "    ax1 = fig.add_subplot(111)\n",
    "    ax1.scatter(time,-ln ,  c='b', marker=\"s\", label='lon')\n",
    "    plt.xlabel(\"time(s)\")\n",
    "    plt.ylabel(\"-Lon\")\n",
    "    slope,intercept,rvalue,pvalue,stderr=(linregress(time,-ln))\n",
    "    plt.plot([time[0], time[len(temp)-1]], [slope*time[0]+intercept,slope*time[len(time)-1]+intercept], color='k', linestyle='-', linewidth=2)\n",
    "    plt.title('$-Ln((Ts-Tw)/(Ta-Tw))=%3.7st%3.7s$'%(slope, intercept))\n",
    "    plt.show()\n",
    "print(\"visualising dataset 1\")\n",
    "plot(data1)\n",
    "print(\"plotting dataset 4 for checking\")\n",
    "plot(data4)"
   ]
  },
  {
   "cell_type": "markdown",
   "metadata": {},
   "source": [
    "# 3. Combine datasets to prevent wrong fitting/overfitting\n",
    "\n",
    "One obvious shortcoming of having the output column Tm as constant for every single row in the dataset is that the model can simply predict Y=Tw for that particular dataset without generalising or getting any slope values for its variables, when model type 1 is used. Thus we need to combine the datasets having different Tw values, in order to train the model properly."
   ]
  },
  {
   "cell_type": "code",
   "execution_count": 185,
   "metadata": {},
   "outputs": [],
   "source": [
    "frames=[data1,data2,data3,data4]\n",
    "#combine all 4 dataframes into 1\n",
    "alldata=pd.concat(frames)\n",
    "#reset the index of the concatenated dataframe, otherwise index will go from 0 to n, then 0 to n again, instead of 0 to 2n.\n",
    "alldata.reset_index(drop=True,inplace=True)"
   ]
  },
  {
   "cell_type": "markdown",
   "metadata": {},
   "source": [
    "# Training Model\n",
    "\n",
    "Steps:\n",
    "\n",
    "1. Decide the features for the model based on the model type chosen, which will determine the X data. If user picks modelnumber=1, then they will be using temperature and derivative features to predict Tw. If modelnumber=2 is chosen, then time will be used to predict the natural log term, and the Tw can be backcalculated from the predicted natural log value. The X \n",
    "\n",
    "2. Scaling is an option, which can act as an extra parameter to adjust and maximise accuracy.\n",
    "\n",
    "3. Split_process_data: Takes in x and y data, and splits the data according to test_size parameter, and reshapes it to fit into the model.\n",
    "\n",
    "4. Fit the linear regression model on the training data.\n",
    "\n",
    "5. Use the model to predict from the test dataset, and get the accuracy related measures such as mse, r2, coefficients and intercepts.\n",
    "\n",
    "6. Calculate and display the accuracy and average absolute errors based on which model type was chosen.\n",
    "\n",
    "Describe how you train your model. Include any code and output"
   ]
  },
  {
   "cell_type": "code",
   "execution_count": 186,
   "metadata": {},
   "outputs": [],
   "source": [
    "def model(data,modelnumber,scale,testsize):\n",
    "    model=LinearRegression()\n",
    "    #Step 1: decide features based on the model type chosen\n",
    "    if modelnumber==1:\n",
    "        features=[\"deriv\",\"celsius\"]\n",
    "        y=data[\"Tw\"]  #here Tw is directly predicted\n",
    "    elif modelnumber==2:\n",
    "        features=[\"time\"]   \n",
    "        y=-data[\"lon\"] #slope of line can be used to find tau, which can be used to find Tw\n",
    "    else:\n",
    "        print(\"Wrong model number, only 1 or 2\")\n",
    "        return None\n",
    "    x=data[features]\n",
    "    \n",
    "    #Step 2: Give user the option to check if scaling affects accuracy\n",
    "    if(scale==True):\n",
    "    #scale down all features to prevent bias towards large features\n",
    "        for i in features:\n",
    "            for j in range(len(x[i])):\n",
    "                x[i][j]=(x[i][j]-min(x[i]))/(max(x[i])-min(x[i]))\n",
    "              \n",
    "    #Step 3: Split the x and y data into training and testing data, in a ratio of 70:30\n",
    "    #X_train, X_test, y_train, y_test=split_process_data(x,y,testsize)\n",
    "    X_train, X_test, y_train, y_test=train_test_split(x,y,test_size=testsize,random_state=42)\n",
    "    #Process data to the correct shape for training\n",
    "    X_train=np.array(X_train)\n",
    "    #reshape data based on model type chosen\n",
    "    if modelnumber==1:\n",
    "        X_train=X_train.reshape(-1,2)\n",
    "    if modelnumber==2:\n",
    "        X_train=X_train.reshape(-1,1)\n",
    "    y_train=np.array(y_train)\n",
    "    y_train=y_train.reshape(-1,1)\n",
    "   \n",
    "    #Step 4: Fit the linear regression model onto the training data\n",
    "    model.fit(X_train,y_train)\n",
    "    #Step 5: Predict values for the Y-test set\n",
    "    y_pred=model.predict(X_test)\n",
    "    #Get the error,r2,coefficient and intercept of the model\n",
    "    mse=mean_squared_error(y_test,y_pred)\n",
    "    r2=r2_score(y_test,y_pred)\n",
    "    coeff=model.coef_\n",
    "    intercept=model.intercept_\n",
    "    print(\"r2 score and mean square error\",r2,mse)\n",
    "    print(\"coeff and intercept are\",coeff,intercept)\n",
    "    \n",
    "    #Step 6 : Display average errors in predictions based on model type chosen.\n",
    "    if(modelnumber==1):\n",
    "        print(\"y test was(index on left, values on right)\")\n",
    "        print(y_test[:10])\n",
    "        print(\"y pred is\")\n",
    "        print(y_pred[:10])\n",
    "        error=[]\n",
    "        #due to the random selection of test data, the indexes of y test are not ordered, not starting from 0.\n",
    "        y_test.reset_index(drop=True,inplace=True)\n",
    "        for i in range(len(y_test)):\n",
    "            error.append(abs(y_test[i]-y_pred[i]))\n",
    "        print(\"average error in predicting y_pred is\")\n",
    "        avger=sum(error)/len(error)\n",
    "        print(avger)\n",
    "            \n",
    "    if(modelnumber==2):\n",
    "        Ta=data[\"celsius\"][0]\n",
    "        tau=1/coeff\n",
    "        Tw=[]\n",
    "        error=[]\n",
    "        for i in range(len(data[\"celsius\"])):\n",
    "            t=data[\"time\"][i]\n",
    "            T=data[\"celsius\"][i]\n",
    "            exponent=(2.71828)**((-t)/(tau))\n",
    "            predictTw=((T-(Ta*exponent))/(1-exponent))\n",
    "            Tw.append(predictTw)\n",
    "            error.append(abs(data[\"Tw\"][i]-predictTw))\n",
    "        avger=sum(error)/len(error)\n",
    "        print(\"average error is\",avger)\n",
    "    return model,avger"
   ]
  },
  {
   "cell_type": "markdown",
   "metadata": {},
   "source": [
    "# 1.Find average error for different model, scale choice, and test size.\n",
    "\n",
    "Plot out the errors vs the test size first to see what sort of test size works best.\n",
    "Modeltest: Input your modeltype and scale, and it will display how the avg error varies for test_sizes ranging from 0.3 to 0.6. It calls the model for your specified paramters, and for test size specified."
   ]
  },
  {
   "cell_type": "code",
   "execution_count": 187,
   "metadata": {},
   "outputs": [
    {
     "name": "stdout",
     "output_type": "stream",
     "text": [
      "[0.30000000000000004, 0.4, 0.5, 0.6000000000000001]\n",
      "r2 score and mean square error 0.9980170782737217 0.5239870661690411\n",
      "coeff and intercept are [[12.88901513  1.00347453]] [0.12630104]\n",
      "y test was(index on left, values on right)\n",
      "44     47\n",
      "47     47\n",
      "4      36\n",
      "55     47\n",
      "26     36\n",
      "64     55\n",
      "73     55\n",
      "10     36\n",
      "40     47\n",
      "107    81\n",
      "Name: Tw, dtype: int64\n",
      "y pred is\n",
      "[[47.47518832]\n",
      " [47.28660751]\n",
      " [36.33765631]\n",
      " [47.35460955]\n",
      " [36.49703458]\n",
      " [54.09650159]\n",
      " [54.24378584]\n",
      " [36.24652848]\n",
      " [47.46754248]\n",
      " [80.31240109]]\n",
      "average error in predicting y_pred is\n",
      "[0.55928964]\n",
      "r2 score and mean square error 0.9975733139911789 0.6641873310115693\n",
      "coeff and intercept are [[13.14437716  1.00007973]] [0.24630286]\n",
      "y test was(index on left, values on right)\n",
      "44     47\n",
      "47     47\n",
      "4      36\n",
      "55     47\n",
      "26     36\n",
      "64     55\n",
      "73     55\n",
      "10     36\n",
      "40     47\n",
      "107    81\n",
      "Name: Tw, dtype: int64\n",
      "y pred is\n",
      "[[47.4858635 ]\n",
      " [47.27899894]\n",
      " [36.42008707]\n",
      " [47.32507225]\n",
      " [36.50406646]\n",
      " [54.30818876]\n",
      " [54.27218295]\n",
      " [36.28495437]\n",
      " [47.50862758]\n",
      " [80.24193143]]\n",
      "average error in predicting y_pred is\n",
      "[0.62036336]\n",
      "r2 score and mean square error 0.9970961388629827 0.7115879451137167\n",
      "coeff and intercept are [[13.14010205  0.99944701]] [0.26426049]\n",
      "y test was(index on left, values on right)\n",
      "44     47\n",
      "47     47\n",
      "4      36\n",
      "55     47\n",
      "26     36\n",
      "64     55\n",
      "73     55\n",
      "10     36\n",
      "40     47\n",
      "107    81\n",
      "Name: Tw, dtype: int64\n",
      "y pred is\n",
      "[[47.47462169]\n",
      " [47.26763226]\n",
      " [36.41630679]\n",
      " [47.31338314]\n",
      " [36.49922123]\n",
      " [54.29565039]\n",
      " [54.25719671]\n",
      " [36.28066064]\n",
      " [47.49778205]\n",
      " [80.21037075]]\n",
      "average error in predicting y_pred is\n",
      "[0.64477961]\n",
      "r2 score and mean square error 0.9976251610406828 0.6208591333642035\n",
      "coeff and intercept are [[13.1198401   0.99998411]] [0.26402737]\n",
      "y test was(index on left, values on right)\n",
      "44     47\n",
      "47     47\n",
      "4      36\n",
      "55     47\n",
      "26     36\n",
      "64     55\n",
      "73     55\n",
      "10     36\n",
      "40     47\n",
      "107    81\n",
      "Name: Tw, dtype: int64\n",
      "y pred is\n",
      "[[47.49511108]\n",
      " [47.28973973]\n",
      " [36.42773915]\n",
      " [47.33749828]\n",
      " [36.51753978]\n",
      " [54.29938709]\n",
      " [54.27761859]\n",
      " [36.29607001]\n",
      " [47.515507  ]\n",
      " [80.2457153 ]]\n",
      "average error in predicting y_pred is\n",
      "[0.59160019]\n"
     ]
    },
    {
     "data": {
      "image/png": "[encoded data removed]",
      "text/plain": [
       "<Figure size 432x288 with 1 Axes>"
      ]
     },
     "metadata": {
      "needs_background": "light"
     },
     "output_type": "display_data"
    }
   ],
   "source": [
    "def modeltest(modeltype,scale):\n",
    "    testsize=[i*0.1 for i in range(3,7)]\n",
    "    print(testsize)\n",
    "    errsize1=[]\n",
    "    for i in [0.3,0.4,0.5,0.6]:\n",
    "        model1,avger=model(alldata,modeltype,scale,i)\n",
    "        errsize1.append(avger)\n",
    "    fig = plt.figure()\n",
    "    ax1 = fig.add_subplot(111)\n",
    "    ax1.scatter(testsize,errsize1 , c='b', marker=\"s\")\n",
    "    plt.xlabel(\"testsize\")\n",
    "    plt.ylabel(\"Average Error\")\n",
    "    plt.show()\n",
    "modeltest(1,False)"
   ]
  },
  {
   "cell_type": "code",
   "execution_count": 188,
   "metadata": {
    "scrolled": true
   },
   "outputs": [
    {
     "name": "stdout",
     "output_type": "stream",
     "text": [
      "[0.30000000000000004, 0.4, 0.5, 0.6000000000000001]\n"
     ]
    },
    {
     "name": "stderr",
     "output_type": "stream",
     "text": [
      "C:\\Users\\rahul\\AnacondaReal\\lib\\site-packages\\ipykernel_launcher.py:6: SettingWithCopyWarning: \n",
      "A value is trying to be set on a copy of a slice from a DataFrame\n",
      "\n",
      "See the caveats in the documentation: http://pandas.pydata.org/pandas-docs/stable/indexing.html#indexing-view-versus-copy\n",
      "  \n"
     ]
    },
    {
     "name": "stdout",
     "output_type": "stream",
     "text": [
      "r2 score and mean square error 0.9019002246356423 25.9228656400315\n",
      "coeff and intercept are [[24.73437931 69.62709175]] [7.01612073]\n",
      "y test was(index on left, values on right)\n",
      "44     47\n",
      "47     47\n",
      "4      36\n",
      "55     47\n",
      "26     36\n",
      "64     55\n",
      "73     55\n",
      "10     36\n",
      "40     47\n",
      "107    81\n",
      "Name: Tw, dtype: int64\n",
      "y pred is\n",
      "[[47.49969592]\n",
      " [47.50606887]\n",
      " [37.56480544]\n",
      " [47.75915406]\n",
      " [38.3728982 ]\n",
      " [51.22421335]\n",
      " [52.98826873]\n",
      " [37.88279239]\n",
      " [47.22102758]\n",
      " [80.01991691]]\n",
      "average error in predicting y_pred is\n",
      "[2.67326746]\n"
     ]
    },
    {
     "name": "stderr",
     "output_type": "stream",
     "text": [
      "C:\\Users\\rahul\\AnacondaReal\\lib\\site-packages\\ipykernel_launcher.py:6: SettingWithCopyWarning: \n",
      "A value is trying to be set on a copy of a slice from a DataFrame\n",
      "\n",
      "See the caveats in the documentation: http://pandas.pydata.org/pandas-docs/stable/indexing.html#indexing-view-versus-copy\n",
      "  \n"
     ]
    },
    {
     "name": "stdout",
     "output_type": "stream",
     "text": [
      "r2 score and mean square error 0.910949000325715 24.373382292795792\n",
      "coeff and intercept are [[23.43573612 70.53534762]] [6.65131926]\n",
      "y test was(index on left, values on right)\n",
      "44     47\n",
      "47     47\n",
      "4      36\n",
      "55     47\n",
      "26     36\n",
      "64     55\n",
      "73     55\n",
      "10     36\n",
      "40     47\n",
      "107    81\n",
      "Name: Tw, dtype: int64\n",
      "y pred is\n",
      "[[47.5685735 ]\n",
      " [47.61015645]\n",
      " [37.44082532]\n",
      " [47.90682512]\n",
      " [38.39843117]\n",
      " [50.92692639]\n",
      " [53.05333345]\n",
      " [37.8452246 ]\n",
      " [47.22986414]\n",
      " [80.16923179]]\n",
      "average error in predicting y_pred is\n",
      "[2.73002475]\n"
     ]
    },
    {
     "name": "stderr",
     "output_type": "stream",
     "text": [
      "C:\\Users\\rahul\\AnacondaReal\\lib\\site-packages\\ipykernel_launcher.py:6: SettingWithCopyWarning: \n",
      "A value is trying to be set on a copy of a slice from a DataFrame\n",
      "\n",
      "See the caveats in the documentation: http://pandas.pydata.org/pandas-docs/stable/indexing.html#indexing-view-versus-copy\n",
      "  \n"
     ]
    },
    {
     "name": "stdout",
     "output_type": "stream",
     "text": [
      "r2 score and mean square error 0.9163442504014659 20.49974848828788\n",
      "coeff and intercept are [[23.36178696 70.44275823]] [6.56185407]\n",
      "y test was(index on left, values on right)\n",
      "44     47\n",
      "47     47\n",
      "4      36\n",
      "55     47\n",
      "26     36\n",
      "64     55\n",
      "73     55\n",
      "10     36\n",
      "40     47\n",
      "107    81\n",
      "Name: Tw, dtype: int64\n",
      "y pred is\n",
      "[[47.42288278]\n",
      " [47.46534681]\n",
      " [37.30674388]\n",
      " [47.76269903]\n",
      " [38.26679446]\n",
      " [50.76577972]\n",
      " [52.89843442]\n",
      " [37.71280357]\n",
      " [47.08311557]\n",
      " [79.97159025]]\n",
      "average error in predicting y_pred is\n",
      "[2.49662311]\n"
     ]
    },
    {
     "name": "stderr",
     "output_type": "stream",
     "text": [
      "C:\\Users\\rahul\\AnacondaReal\\lib\\site-packages\\ipykernel_launcher.py:6: SettingWithCopyWarning: \n",
      "A value is trying to be set on a copy of a slice from a DataFrame\n",
      "\n",
      "See the caveats in the documentation: http://pandas.pydata.org/pandas-docs/stable/indexing.html#indexing-view-versus-copy\n",
      "  \n"
     ]
    },
    {
     "name": "stdout",
     "output_type": "stream",
     "text": [
      "r2 score and mean square error 0.9349169543018444 17.01479723091534\n",
      "coeff and intercept are [[24.54225743 69.18493782]] [7.43484366]\n",
      "y test was(index on left, values on right)\n",
      "44     47\n",
      "47     47\n",
      "4      36\n",
      "55     47\n",
      "26     36\n",
      "64     55\n",
      "73     55\n",
      "10     36\n",
      "40     47\n",
      "107    81\n",
      "Name: Tw, dtype: int64\n",
      "y pred is\n",
      "[[47.65929433]\n",
      " [47.66638622]\n",
      " [37.78612587]\n",
      " [47.91873509]\n",
      " [38.59209143]\n",
      " [51.35119342]\n",
      " [53.1113827 ]\n",
      " [38.10387199]\n",
      " [47.38117617]\n",
      " [79.9655696 ]]\n",
      "average error in predicting y_pred is\n",
      "[2.41490621]\n"
     ]
    },
    {
     "data": {
      "image/png": "[encoded data removed]",
      "text/plain": [
       "<Figure size 432x288 with 1 Axes>"
      ]
     },
     "metadata": {
      "needs_background": "light"
     },
     "output_type": "display_data"
    }
   ],
   "source": [
    "modeltest(1,True)"
   ]
  },
  {
   "cell_type": "code",
   "execution_count": 189,
   "metadata": {},
   "outputs": [
    {
     "name": "stdout",
     "output_type": "stream",
     "text": [
      "[0.30000000000000004, 0.4, 0.5, 0.6000000000000001]\n"
     ]
    },
    {
     "name": "stderr",
     "output_type": "stream",
     "text": [
      "C:\\Users\\rahul\\AnacondaReal\\lib\\site-packages\\ipykernel_launcher.py:6: SettingWithCopyWarning: \n",
      "A value is trying to be set on a copy of a slice from a DataFrame\n",
      "\n",
      "See the caveats in the documentation: http://pandas.pydata.org/pandas-docs/stable/indexing.html#indexing-view-versus-copy\n",
      "  \n"
     ]
    },
    {
     "name": "stdout",
     "output_type": "stream",
     "text": [
      "r2 score and mean square error 0.9526855239569509 0.05118317928494709\n",
      "coeff and intercept are [[4.30184087]] [-0.26575681]\n",
      "average error is [[5.34035833]]\n"
     ]
    },
    {
     "name": "stderr",
     "output_type": "stream",
     "text": [
      "C:\\Users\\rahul\\AnacondaReal\\lib\\site-packages\\ipykernel_launcher.py:6: SettingWithCopyWarning: \n",
      "A value is trying to be set on a copy of a slice from a DataFrame\n",
      "\n",
      "See the caveats in the documentation: http://pandas.pydata.org/pandas-docs/stable/indexing.html#indexing-view-versus-copy\n",
      "  \n"
     ]
    },
    {
     "name": "stdout",
     "output_type": "stream",
     "text": [
      "r2 score and mean square error 0.9618882527013101 0.049559850492575115\n",
      "coeff and intercept are [[4.30212424]] [-0.27001845]\n",
      "average error is [[5.34035833]]\n"
     ]
    },
    {
     "name": "stderr",
     "output_type": "stream",
     "text": [
      "C:\\Users\\rahul\\AnacondaReal\\lib\\site-packages\\ipykernel_launcher.py:6: SettingWithCopyWarning: \n",
      "A value is trying to be set on a copy of a slice from a DataFrame\n",
      "\n",
      "See the caveats in the documentation: http://pandas.pydata.org/pandas-docs/stable/indexing.html#indexing-view-versus-copy\n",
      "  \n"
     ]
    },
    {
     "name": "stdout",
     "output_type": "stream",
     "text": [
      "r2 score and mean square error 0.9623262211992514 0.0440986730182905\n",
      "coeff and intercept are [[4.31799173]] [-0.28302658]\n",
      "average error is [[5.34035833]]\n"
     ]
    },
    {
     "name": "stderr",
     "output_type": "stream",
     "text": [
      "C:\\Users\\rahul\\AnacondaReal\\lib\\site-packages\\ipykernel_launcher.py:6: SettingWithCopyWarning: \n",
      "A value is trying to be set on a copy of a slice from a DataFrame\n",
      "\n",
      "See the caveats in the documentation: http://pandas.pydata.org/pandas-docs/stable/indexing.html#indexing-view-versus-copy\n",
      "  \n"
     ]
    },
    {
     "name": "stdout",
     "output_type": "stream",
     "text": [
      "r2 score and mean square error 0.9570273512613382 0.048923318026272894\n",
      "coeff and intercept are [[4.41680436]] [-0.3243822]\n",
      "average error is [[5.34035833]]\n"
     ]
    },
    {
     "data": {
      "image/png": "[encoded data removed]",
      "text/plain": [
       "<Figure size 432x288 with 1 Axes>"
      ]
     },
     "metadata": {
      "needs_background": "light"
     },
     "output_type": "display_data"
    }
   ],
   "source": [
    "modeltest(2,True)"
   ]
  },
  {
   "cell_type": "code",
   "execution_count": 190,
   "metadata": {},
   "outputs": [
    {
     "name": "stdout",
     "output_type": "stream",
     "text": [
      "[0.30000000000000004, 0.4, 0.5, 0.6000000000000001]\n",
      "r2 score and mean square error 0.9618809891753817 0.04123584002972185\n",
      "coeff and intercept are [[0.07001801]] [-0.26582231]\n",
      "average error is [[2.33719409]]\n",
      "r2 score and mean square error 0.9677017747897376 0.042000047913078604\n",
      "coeff and intercept are [[0.07002262]] [-0.27008396]\n",
      "average error is [[2.33758223]]\n",
      "r2 score and mean square error 0.9677030807945858 0.03780484264852692\n",
      "coeff and intercept are [[0.07028088]] [-0.28309233]\n",
      "average error is [[2.35921137]]\n",
      "r2 score and mean square error 0.9622275139413622 0.043003058976607215\n",
      "coeff and intercept are [[0.07188919]] [-0.32444945]\n",
      "average error is [[2.49013531]]\n"
     ]
    },
    {
     "data": {
      "image/png": "[encoded data removed]",
      "text/plain": [
       "<Figure size 432x288 with 1 Axes>"
      ]
     },
     "metadata": {
      "needs_background": "light"
     },
     "output_type": "display_data"
    }
   ],
   "source": [
    "modeltest(2,False)"
   ]
  },
  {
   "cell_type": "markdown",
   "metadata": {},
   "source": [
    "# Verification and Accuracy\n",
    "\n",
    "From the above results, we can see that the first model is much better and has a higher R squared value. For a fixed random_state of 42, it has:\n",
    "r2 score and mean square error 0.9980170782737217 0.5239870661690411\n",
    "average error in predicting Tw is\n",
    "[0.55928964]C\n",
    "\n",
    "Whereas the second model is not as effective:\n",
    "r2 score and mean square error 0.9618809891753817 0.04123584002972185\n",
    "average error in predicting Tw is [[2.33719409]]C\n",
    "\n",
    "The error in the second model can arise through error propagation, since we are not predicting Tw directly, and instead we are first predicting the Natural Log term, and then processing it further to get the Tw value.\n",
    "\n",
    "Steps taken to improve Accuracy:\n",
    "\n",
    "1. 1st Model was chosen, as it is much better for prediction than 2nd(the consideration of both models initially was a pre emptive step to improve accuracy).\n",
    "2. Given above are functions that adjust the test size, model type, and whether scaled data or not. The most optimised choice seems to:\n",
    "\n",
    "a. Scaled - False - This is a surprising result. It is probably due to loss of information regarding magnitude, which in this case is very important. Unlike a simple classification problem involving other non scientific/non formula based data, this is a scientific experiment where the magnitude of different quantities has a certain order(size) and this is probably very important for prediction.\n",
    "\n",
    "b. Type - 1 - Expected, as type one directly predicts Tw.\n",
    "\n",
    "c. Test Size - 0.3 - This is an expected result, since less test size means more training data.\n",
    "\n",
    "\n"
   ]
  },
  {
   "cell_type": "code",
   "execution_count": null,
   "metadata": {},
   "outputs": [],
   "source": []
  }
 ],
 "metadata": {
  "kernelspec": {
   "display_name": "Python 3",
   "language": "python",
   "name": "python3"
  },
  "language_info": {
   "codemirror_mode": {
    "name": "ipython",
    "version": 3
   },
   "file_extension": ".py",
   "mimetype": "text/x-python",
   "name": "python",
   "nbconvert_exporter": "python",
   "pygments_lexer": "ipython3",
   "version": "3.7.1"
  }
 },
 "nbformat": 4,
 "nbformat_minor": 2
}
